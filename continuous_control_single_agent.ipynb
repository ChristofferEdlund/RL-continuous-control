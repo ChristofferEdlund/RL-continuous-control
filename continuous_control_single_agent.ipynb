{
 "cells": [
  {
   "cell_type": "markdown",
   "metadata": {},
   "source": [
    "# Continuous Control\n",
    "\n",
    "---\n",
    "\n",
    "In this notebook, you will learn how to use the Unity ML-Agents environment for the second project of the [Deep Reinforcement Learning Nanodegree](https://www.udacity.com/course/deep-reinforcement-learning-nanodegree--nd893) program.\n",
    "\n",
    "### 1. Start the Environment\n",
    "\n",
    "We begin by importing the necessary packages.  If the code cell below returns an error, please revisit the project instructions to double-check that you have installed [Unity ML-Agents](https://github.com/Unity-Technologies/ml-agents/blob/master/docs/Installation.md) and [NumPy](http://www.numpy.org/)."
   ]
  },
  {
   "cell_type": "code",
   "execution_count": 1,
   "metadata": {},
   "outputs": [
    {
     "name": "stdout",
     "output_type": "stream",
     "text": [
      "\u001b[33m  DEPRECATION: A future pip version will change local packages to be built in-place without first copying to a temporary directory. We recommend you use --use-feature=in-tree-build to test your packages with this new behavior before it becomes the default.\n",
      "   pip 21.3 will remove support for this functionality. You can find discussion regarding this at https://github.com/pypa/pip/issues/7555.\u001b[0m\n",
      "\u001b[33mWARNING: Running pip as root will break packages and permissions. You should install packages reliably by using venv: https://pip.pypa.io/warnings/venv\u001b[0m\n",
      "\u001b[33mWARNING: You are using pip version 21.1.1; however, version 21.1.2 is available.\n",
      "You should consider upgrading via the '/opt/conda/bin/python -m pip install --upgrade pip' command.\u001b[0m\n"
     ]
    }
   ],
   "source": [
    "!pip -q install ../python\n",
    "from unityagents import UnityEnvironment\n",
    "import numpy as np\n",
    "import sys\n",
    "from matplotlib import pyplot as plt\n",
    "from pathlib import Path\n",
    "import torch\n",
    "\n",
    "sys.path.append(\"./src\")"
   ]
  },
  {
   "cell_type": "code",
   "execution_count": 2,
   "metadata": {},
   "outputs": [],
   "source": [
    "%load_ext autoreload\n",
    "%autoreload 2\n",
    "from agent import DDPG_Agent"
   ]
  },
  {
   "cell_type": "markdown",
   "metadata": {},
   "source": [
    "Next, we will start the environment!  **_Before running the code cell below_**, change the `file_name` parameter to match the location of the Unity environment that you downloaded.\n",
    "\n",
    "- **Mac**: `\"path/to/Reacher.app\"`\n",
    "- **Windows** (x86): `\"path/to/Reacher_Windows_x86/Reacher.exe\"`\n",
    "- **Windows** (x86_64): `\"path/to/Reacher_Windows_x86_64/Reacher.exe\"`\n",
    "- **Linux** (x86): `\"path/to/Reacher_Linux/Reacher.x86\"`\n",
    "- **Linux** (x86_64): `\"path/to/Reacher_Linux/Reacher.x86_64\"`\n",
    "- **Linux** (x86, headless): `\"path/to/Reacher_Linux_NoVis/Reacher.x86\"`\n",
    "- **Linux** (x86_64, headless): `\"path/to/Reacher_Linux_NoVis/Reacher.x86_64\"`\n",
    "\n",
    "For instance, if you are using a Mac, then you downloaded `Reacher.app`.  If this file is in the same folder as the notebook, then the line below should appear as follows:\n",
    "```\n",
    "env = UnityEnvironment(file_name=\"Reacher.app\")\n",
    "```"
   ]
  },
  {
   "cell_type": "code",
   "execution_count": 3,
   "metadata": {},
   "outputs": [],
   "source": [
    "# Initiate the resource paths\n",
    "resource_path = Path(\"resources\")\n",
    "\n",
    "weight_path = resource_path.joinpath(\"weights\")\n",
    "plot_path = resource_path.joinpath(\"plots\")\n",
    "metric_path = resource_path.joinpath(\"metrics\")\n",
    "\n",
    "weight_path.mkdir(parents=True, exist_ok=True)\n",
    "plot_path.mkdir(parents=True, exist_ok=True)\n",
    "metric_path.mkdir(parents=True, exist_ok=True)"
   ]
  },
  {
   "cell_type": "code",
   "execution_count": 4,
   "metadata": {},
   "outputs": [
    {
     "name": "stderr",
     "output_type": "stream",
     "text": [
      "INFO:unityagents:\n",
      "'Academy' started successfully!\n",
      "Unity Academy name: Academy\n",
      "        Number of Brains: 1\n",
      "        Number of External Brains : 1\n",
      "        Lesson number : 0\n",
      "        Reset Parameters :\n",
      "\t\tgoal_speed -> 1.0\n",
      "\t\tgoal_size -> 5.0\n",
      "Unity brain name: ReacherBrain\n",
      "        Number of Visual Observations (per agent): 0\n",
      "        Vector Observation space type: continuous\n",
      "        Vector Observation space size (per agent): 33\n",
      "        Number of stacked Vector Observation: 1\n",
      "        Vector Action space type: continuous\n",
      "        Vector Action space size (per agent): 4\n",
      "        Vector Action descriptions: , , , \n"
     ]
    }
   ],
   "source": [
    "enviorment_file = r\"Reacher_Linux_NoVis_single/Reacher.x86_64\"\n",
    "\n",
    "env = UnityEnvironment(file_name=enviorment_file, worker_id=8090)"
   ]
  },
  {
   "cell_type": "markdown",
   "metadata": {},
   "source": [
    "Environments contain **_brains_** which are responsible for deciding the actions of their associated agents. Here we check for the first brain available, and set it as the default brain we will be controlling from Python."
   ]
  },
  {
   "cell_type": "code",
   "execution_count": 5,
   "metadata": {},
   "outputs": [],
   "source": [
    "# get the default brain\n",
    "brain_name = env.brain_names[0]\n",
    "brain = env.brains[brain_name]"
   ]
  },
  {
   "cell_type": "markdown",
   "metadata": {},
   "source": [
    "### 2. Examine the State and Action Spaces\n",
    "\n",
    "In this environment, a double-jointed arm can move to target locations. A reward of `+0.1` is provided for each step that the agent's hand is in the goal location. Thus, the goal of your agent is to maintain its position at the target location for as many time steps as possible.\n",
    "\n",
    "The observation space consists of `33` variables corresponding to position, rotation, velocity, and angular velocities of the arm.  Each action is a vector with four numbers, corresponding to torque applicable to two joints.  Every entry in the action vector must be a number between `-1` and `1`.\n",
    "\n",
    "Run the code cell below to print some information about the environment."
   ]
  },
  {
   "cell_type": "code",
   "execution_count": 6,
   "metadata": {},
   "outputs": [
    {
     "name": "stdout",
     "output_type": "stream",
     "text": [
      "Number of agents: 1\n",
      "Size of each action: 4\n",
      "There are 1 agents. Each observes a state with length: 33\n",
      "The state for the first agent looks like: [ 0.00000000e+00 -4.00000000e+00  0.00000000e+00  1.00000000e+00\n",
      " -0.00000000e+00 -0.00000000e+00 -4.37113883e-08  0.00000000e+00\n",
      "  0.00000000e+00  0.00000000e+00  0.00000000e+00  0.00000000e+00\n",
      "  0.00000000e+00  0.00000000e+00 -1.00000000e+01  0.00000000e+00\n",
      "  1.00000000e+00 -0.00000000e+00 -0.00000000e+00 -4.37113883e-08\n",
      "  0.00000000e+00  0.00000000e+00  0.00000000e+00  0.00000000e+00\n",
      "  0.00000000e+00  0.00000000e+00  5.75471878e+00 -1.00000000e+00\n",
      "  5.55726671e+00  0.00000000e+00  1.00000000e+00  0.00000000e+00\n",
      " -1.68164849e-01]\n"
     ]
    }
   ],
   "source": [
    "# reset the environment\n",
    "env_info = env.reset(train_mode=True)[brain_name]\n",
    "\n",
    "# number of agents\n",
    "num_agents = len(env_info.agents)\n",
    "print('Number of agents:', num_agents)\n",
    "\n",
    "# size of each action\n",
    "action_size = brain.vector_action_space_size\n",
    "print('Size of each action:', action_size)\n",
    "\n",
    "# examine the state space \n",
    "states = env_info.vector_observations\n",
    "state_size = states.shape[1]\n",
    "print('There are {} agents. Each observes a state with length: {}'.format(states.shape[0], state_size))\n",
    "print('The state for the first agent looks like:', states[0])"
   ]
  },
  {
   "cell_type": "markdown",
   "metadata": {},
   "source": [
    "### 4. Training the agent\n",
    "\n",
    "Make sure to train reset the enviornment for each episode, do this in the following maner.\n",
    "```python\n",
    "env_info = env.reset(train_mode=True)[brain_name]\n",
    "```"
   ]
  },
  {
   "cell_type": "code",
   "execution_count": 7,
   "metadata": {},
   "outputs": [
    {
     "name": "stdout",
     "output_type": "stream",
     "text": [
      "Actor(\n",
      "  (fcs): Sequential(\n",
      "    (0): Linear(in_features=33, out_features=400, bias=True)\n",
      "    (1): BatchNorm1d(400, eps=1e-05, momentum=0.1, affine=True, track_running_stats=True)\n",
      "    (2): ReLU()\n",
      "    (3): Linear(in_features=400, out_features=300, bias=True)\n",
      "    (4): ReLU()\n",
      "    (5): Linear(in_features=300, out_features=4, bias=True)\n",
      "  )\n",
      ")\n",
      "Critic(\n",
      "  (fc_embedd): Sequential(\n",
      "    (0): Linear(in_features=33, out_features=400, bias=True)\n",
      "    (1): BatchNorm1d(400, eps=1e-05, momentum=0.1, affine=True, track_running_stats=True)\n",
      "    (2): ReLU()\n",
      "  )\n",
      "  (fc_action_map): Sequential(\n",
      "    (0): Linear(in_features=404, out_features=300, bias=True)\n",
      "    (1): ReLU()\n",
      "    (2): Linear(in_features=300, out_features=1, bias=True)\n",
      "  )\n",
      ")\n"
     ]
    }
   ],
   "source": [
    "agent = DDPG_Agent(state_size=state_size, action_size=action_size, seed=0, use_noise=True)\n",
    "print(agent.local_actor)\n",
    "print(agent.local_critic)\n",
    "\n",
    "env_info = env.reset(train_mode=True)[brain_name] # reset the environment\n",
    "state = env_info.vector_observations[0]            # get the current state\n",
    "score = 0      "
   ]
  },
  {
   "cell_type": "code",
   "execution_count": 8,
   "metadata": {},
   "outputs": [
    {
     "name": "stdout",
     "output_type": "stream",
     "text": [
      "Episode 10\t Mean score: 0.43\tAverage Score: 0.29\n",
      "Episode 20\t Mean score: 1.45\tAverage Score: 0.57\n",
      "Episode 30\t Mean score: 2.50\tAverage Score: 0.72\n",
      "Episode 40\t Mean score: 0.42\tAverage Score: 0.85\n",
      "Episode 50\t Mean score: 0.81\tAverage Score: 0.90\n",
      "Episode 60\t Mean score: 1.64\tAverage Score: 0.95\n",
      "Episode 70\t Mean score: 2.34\tAverage Score: 1.09\n",
      "Episode 80\t Mean score: 2.74\tAverage Score: 1.31\n",
      "Episode 90\t Mean score: 1.06\tAverage Score: 1.41\n",
      "Episode 100\t Mean score: 3.00\tAverage Score: 1.52\n",
      "Episode 110\t Mean score: 1.51\tAverage Score: 1.78\n",
      "Episode 120\t Mean score: 3.04\tAverage Score: 1.99\n",
      "Episode 130\t Mean score: 6.64\tAverage Score: 2.30\n",
      "Episode 140\t Mean score: 2.29\tAverage Score: 2.60\n",
      "Episode 150\t Mean score: 4.75\tAverage Score: 3.04\n",
      "Episode 160\t Mean score: 5.31\tAverage Score: 3.36\n",
      "Episode 170\t Mean score: 3.89\tAverage Score: 3.70\n",
      "Episode 180\t Mean score: 9.39\tAverage Score: 4.21\n",
      "Episode 190\t Mean score: 7.97\tAverage Score: 4.86\n",
      "Episode 200\t Mean score: 5.84\tAverage Score: 5.32\n",
      "Episode 210\t Mean score: 8.40\tAverage Score: 5.98\n",
      "Episode 220\t Mean score: 7.99\tAverage Score: 6.40\n",
      "Episode 230\t Mean score: 13.98\tAverage Score: 7.08\n",
      "Episode 240\t Mean score: 8.26\tAverage Score: 7.57\n",
      "Episode 250\t Mean score: 9.63\tAverage Score: 7.99\n",
      "Episode 260\t Mean score: 12.57\tAverage Score: 8.42\n",
      "Episode 270\t Mean score: 7.27\tAverage Score: 8.84\n",
      "Episode 280\t Mean score: 9.71\tAverage Score: 8.97\n",
      "Episode 290\t Mean score: 8.26\tAverage Score: 8.90\n",
      "Episode 300\t Mean score: 7.85\tAverage Score: 9.22\n",
      "Episode 310\t Mean score: 13.31\tAverage Score: 9.29\n",
      "Episode 320\t Mean score: 11.83\tAverage Score: 9.45\n",
      "Episode 330\t Mean score: 7.57\tAverage Score: 9.40\n",
      "Episode 340\t Mean score: 12.27\tAverage Score: 9.56\n",
      "Episode 350\t Mean score: 13.55\tAverage Score: 9.98\n",
      "Episode 360\t Mean score: 10.53\tAverage Score: 10.13\n",
      "Episode 370\t Mean score: 10.12\tAverage Score: 10.30\n",
      "Episode 380\t Mean score: 7.68\tAverage Score: 10.58\n",
      "Episode 390\t Mean score: 12.80\tAverage Score: 10.70\n",
      "Episode 400\t Mean score: 13.70\tAverage Score: 10.79\n",
      "Episode 410\t Mean score: 10.69\tAverage Score: 10.86\n",
      "Episode 420\t Mean score: 12.10\tAverage Score: 11.19\n",
      "Episode 430\t Mean score: 14.62\tAverage Score: 11.33\n",
      "Episode 440\t Mean score: 13.13\tAverage Score: 11.60\n",
      "Episode 450\t Mean score: 14.37\tAverage Score: 11.44\n",
      "Episode 460\t Mean score: 17.96\tAverage Score: 11.96\n",
      "Episode 470\t Mean score: 20.75\tAverage Score: 12.33\n",
      "Episode 480\t Mean score: 19.84\tAverage Score: 12.42\n",
      "Episode 490\t Mean score: 15.75\tAverage Score: 12.69\n",
      "Episode 500\t Mean score: 9.10\tAverage Score: 12.90\n",
      "Episode 510\t Mean score: 20.85\tAverage Score: 13.39\n",
      "Episode 520\t Mean score: 22.69\tAverage Score: 13.73\n",
      "Episode 530\t Mean score: 36.13\tAverage Score: 13.94\n",
      "Episode 540\t Mean score: 20.11\tAverage Score: 14.21\n",
      "Episode 550\t Mean score: 14.08\tAverage Score: 14.45\n",
      "Episode 560\t Mean score: 18.97\tAverage Score: 14.63\n",
      "Episode 570\t Mean score: 16.42\tAverage Score: 14.58\n",
      "Episode 580\t Mean score: 14.04\tAverage Score: 14.87\n",
      "Episode 590\t Mean score: 8.68\tAverage Score: 15.28\n",
      "Episode 600\t Mean score: 7.88\tAverage Score: 15.30\n",
      "Episode 610\t Mean score: 20.00\tAverage Score: 15.59\n",
      "Episode 620\t Mean score: 25.23\tAverage Score: 15.93\n",
      "Episode 630\t Mean score: 22.45\tAverage Score: 16.10\n",
      "Episode 640\t Mean score: 13.14\tAverage Score: 16.08\n",
      "Episode 650\t Mean score: 19.13\tAverage Score: 16.46\n",
      "Episode 660\t Mean score: 13.82\tAverage Score: 16.74\n",
      "Episode 670\t Mean score: 19.70\tAverage Score: 17.15\n",
      "Episode 680\t Mean score: 20.55\tAverage Score: 17.65\n",
      "Episode 690\t Mean score: 20.51\tAverage Score: 18.05\n",
      "Episode 700\t Mean score: 21.00\tAverage Score: 18.82\n",
      "Episode 710\t Mean score: 25.38\tAverage Score: 18.93\n",
      "Episode 720\t Mean score: 23.99\tAverage Score: 19.26\n",
      "Episode 730\t Mean score: 24.75\tAverage Score: 19.93\n",
      "Episode 740\t Mean score: 19.18\tAverage Score: 20.63\n",
      "Episode 750\t Mean score: 23.29\tAverage Score: 21.17\n",
      "Episode 760\t Mean score: 26.59\tAverage Score: 21.82\n",
      "Episode 770\t Mean score: 25.77\tAverage Score: 22.58\n",
      "Episode 780\t Mean score: 26.54\tAverage Score: 22.95\n",
      "Episode 790\t Mean score: 30.28\tAverage Score: 23.68\n",
      "Episode 800\t Mean score: 27.28\tAverage Score: 24.53\n",
      "Episode 810\t Mean score: 34.36\tAverage Score: 25.85\n",
      "Episode 820\t Mean score: 34.25\tAverage Score: 26.84\n",
      "Episode 830\t Mean score: 29.89\tAverage Score: 27.83\n",
      "Episode 840\t Mean score: 18.49\tAverage Score: 28.52\n",
      "Episode 850\t Mean score: 26.26\tAverage Score: 29.20\n",
      "Episode 860\t Mean score: 32.50\tAverage Score: 29.85\n",
      "\n",
      "Environment solved in 761 episodes!\tAverage Score: 30.03\n"
     ]
    },
    {
     "data": {
      "image/png": "[encoded data removed]",
      "text/plain": [
       "<Figure size 432x288 with 1 Axes>"
      ]
     },
     "metadata": {
      "needs_background": "light"
     },
     "output_type": "display_data"
    }
   ],
   "source": [
    "from collections import deque\n",
    "\n",
    "score_goal = 30\n",
    "score_window = 100\n",
    "\n",
    "def ddpg(n_episodes=1000, max_t=1000, score_window=100, print_freq=10): #, eps_start=1.0, eps_end=0.01, eps_decay=0.995):\n",
    "    \"\"\"Deep Q-Learning.\n",
    "    \n",
    "    Params\n",
    "    ======\n",
    "        n_episodes (int): maximum number of training episodes\n",
    "        max_t (int): maximum number of timesteps per episode\n",
    "        score_window (int) : \n",
    "\n",
    "    \"\"\"\n",
    "    scores = []                                 # list containing scores from each episode\n",
    "    scores_window = deque(maxlen=score_window)  # last 100 scores\n",
    "    # eps = eps_start                             # initialize epsilon\n",
    "    \n",
    "    for i_episode in range(1, n_episodes+1):\n",
    "        env_info = env.reset(train_mode=True)[brain_name]\n",
    "        states = env_info.vector_observations\n",
    "        score = 0\n",
    "        agent.reset_noise()\n",
    "        \n",
    "        for t in range(max_t):\n",
    "\n",
    "            actions = agent.act(states)\n",
    "            env_info = env.step(actions)[brain_name]\n",
    "            \n",
    "            next_states = env_info.vector_observations\n",
    "            rewards = env_info.rewards\n",
    "            dones = env_info.local_done\n",
    "\n",
    "            for state, action, reward, next_state, done in zip(states, actions, rewards, next_states, dones):\n",
    "                agent.step(state, action, reward, next_state, done, t)\n",
    "\n",
    "            states = next_states\n",
    "            score += reward\n",
    "            if np.any(dones):\n",
    "                break \n",
    "        scores_window.append(np.mean(score))       # save most recent score\n",
    "        scores.append(np.mean(score))              # save most recent score\n",
    "\n",
    "        #print('\\rEpisode {}\\tAverage Score: {:.2f}'.format(i_episode, np.mean(scores_window)), end=\"\")\n",
    "        if i_episode % print_freq == 0:\n",
    "            print('\\rEpisode {}\\t Mean score: {:.2f}\\tAverage Score: {:.2f}'.format(i_episode, np.mean(score), np.mean(scores_window)))\n",
    "        if np.mean(scores_window)>=score_goal:\n",
    "            print('\\nEnvironment solved in {:d} episodes!\\tAverage Score: {:.2f}'.format(i_episode-100, np.mean(scores_window)))\n",
    "            np.save(str(metric_path.joinpath(\"single_continous_goal.npy\")), np.array(i_episode-100))\n",
    "            torch.save(agent.local_actor.state_dict(), str(weight_path.joinpath('single_control_actor.pth')))\n",
    "            torch.save(agent.local_critic.state_dict(), str(weight_path.joinpath('single_control_critic.pth')))\n",
    "            break\n",
    "    return scores\n",
    "\n",
    "scores = ddpg()\n",
    "\n",
    "# plot the scores\n",
    "fig = plt.figure()\n",
    "ax = fig.add_subplot(111)\n",
    "\n",
    "#\n",
    "plt.plot(np.arange(len(scores)), scores)\n",
    "plt.ylabel('Score')\n",
    "plt.xlabel('Episode #')\n",
    "plt.show()"
   ]
  },
  {
   "cell_type": "code",
   "execution_count": 9,
   "metadata": {},
   "outputs": [],
   "source": [
    "def moving_average(x, w):\n",
    "    return np.convolve(x, np.ones(w), 'valid') / w"
   ]
  },
  {
   "cell_type": "code",
   "execution_count": 10,
   "metadata": {},
   "outputs": [
    {
     "data": {
      "image/png": "[encoded data removed]",
      "text/plain": [
       "<Figure size 432x288 with 1 Axes>"
      ]
     },
     "metadata": {
      "needs_background": "light"
     },
     "output_type": "display_data"
    }
   ],
   "source": [
    "np.save(str(metric_path.joinpath(\"single_control_score.npy\")), np.array(scores))\n",
    "\n",
    "mean_scores = moving_average(scores, 10)\n",
    "plt.plot(np.arange(len(scores)), scores, alpha=0.3, label=\"Raw scores\")\n",
    "plt.plot(np.arange(len(mean_scores)), mean_scores, label=\"Smooth scores\")\n",
    "plt.legend(loc=\"upper left\")\n",
    "plt.title(\"DDPG score plot\")\n",
    "plt.ylabel('Score')\n",
    "plt.xlabel('Episode #')\n",
    "plt.savefig(str(plot_path.joinpath(\"single_control_plot.png\")))"
   ]
  },
  {
   "cell_type": "markdown",
   "metadata": {},
   "source": [
    "When finished, you can close the environment."
   ]
  },
  {
   "cell_type": "code",
   "execution_count": 11,
   "metadata": {},
   "outputs": [],
   "source": [
    "env.close()"
   ]
  }
 ],
 "metadata": {
  "kernelspec": {
   "display_name": "Python 3",
   "language": "python",
   "name": "python3"
  },
  "language_info": {
   "codemirror_mode": {
    "name": "ipython",
    "version": 3
   },
   "file_extension": ".py",
   "mimetype": "text/x-python",
   "name": "python",
   "nbconvert_exporter": "python",
   "pygments_lexer": "ipython3",
   "version": "3.6.5"
  },
  "pycharm": {
   "stem_cell": {
    "cell_type": "raw",
    "source": [],
    "metadata": {
     "collapsed": false
    }
   }
  }
 },
 "nbformat": 4,
 "nbformat_minor": 4
}